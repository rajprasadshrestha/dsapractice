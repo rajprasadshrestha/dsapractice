{
 "cells": [
  {
   "cell_type": "code",
   "execution_count": 29,
   "metadata": {},
   "outputs": [
    {
     "data": {
      "text/plain": [
       "1054092553.3894598"
      ]
     },
     "execution_count": 29,
     "metadata": {},
     "output_type": "execute_result"
    }
   ],
   "source": [
    "from math import sqrt\n",
    "\n",
    "\n",
    "def check_prime(n):\n",
    "    for i in range(2, round(sqrt(n))):\n",
    "        if n % i == 0:\n",
    "            return False\n",
    "    return True\n",
    "\n",
    "n =check_prime(276444377777777)\n",
    "if check_prime(n):\n",
    "    print(\"It is a prime number\")\n",
    "else:\n",
    "    print(\"It is not a prime number\")\n",
    "\n"
   ]
  },
  {
   "cell_type": "code",
   "execution_count": 36,
   "metadata": {},
   "outputs": [
    {
     "data": {
      "text/plain": [
       "[[1], [2, 3], [4, 5, 6]]"
      ]
     },
     "execution_count": 36,
     "metadata": {},
     "output_type": "execute_result"
    }
   ],
   "source": [
    "def create_staircase(nums):\n",
    "    step = 1\n",
    "    subsets = []\n",
    "    while len(nums) != 0:\n",
    "        \n",
    "        if len(nums) >= step:\n",
    "            subsets.append(nums[0:step])\n",
    "            nums = nums[step:]\n",
    "            step += 1\n",
    "        else:\n",
    "            return False\n",
    "    return subsets\n",
    "\n",
    "create_staircase([1, 2, 3, 4, 5, 6])"
   ]
  },
  {
   "cell_type": "code",
   "execution_count": 110,
   "metadata": {},
   "outputs": [
    {
     "name": "stdout",
     "output_type": "stream",
     "text": [
      "{283: 'land', 45: 'sun', 149: 'too', 258: 'huge', 161: 'dont', 224: 'such', 169: 'noun', 10: 'student', 185: 'brown', 41: 'complete', 63: 'play', 187: 'cook', 160: 'yard', 82: 'clock', 300: 'would', 179: 'plain', 174: 'excite', 273: 'fire', 84: 'wish', 22: 'cool', 263: 'child', 212: 'past', 261: 'colony', 248: 'oil', 218: 'dog', 292: 'back', 89: 'money', 70: 'kind', 126: 'open', 214: 'finger', 86: 'touch', 249: 'are', 296: 'dad', 122: 'am', 256: 'modern', 171: 'meant', 206: 'ocean', 231: 'pitch', 250: 'suit', 71: 'town', 76: 'east', 116: 'over', 177: 'group', 157: 'good', 146: 'kind', 164: 'down', 4: 'band', 56: 'especially', 234: 'organ', 298: 'of', 180: 'fire', 49: 'out', 232: 'area', 124: 'touch', 123: 'happen', 26: 'sat', 130: 'electric', 295: 'wrote', 127: 'buy', 15: 'lot', 69: 'stop', 11: 'corn', 54: 'where', 247: 'check', 73: 'live', 221: 'best', 168: 'hold', 286: 'cause', 233: 'grand', 6: 'present', 79: 'indicate', 46: 'counter', 162: 'we', 193: 'like', 222: 'visit', 251: 'state', 139: 'morning', 112: 'true', 279: 'are', 142: 'ball', 190: 'history', 34: 'seat', 228: 'rain', 227: 'less', 25: 'glass', 240: 'tone', 37: 'song', 128: 'fair', 211: 'element', 197: 'speed', 57: 'produce', 32: 'quotient', 259: 'sand', 290: 'begin', 138: 'moment', 24: 'offer', 16: 'probable', 235: 'all', 163: 'necessary', 147: 'post', 35: 'cent', 2: 'happen', 8: 'speech', 198: 'object', 267: 'silver', 297: 'third', 36: 'crease', 191: 'wait', 111: 'triangle', 219: 'idea', 136: 'clothe', 1: 'young', 181: 'discuss', 154: 'field', 118: 'company', 215: 'capital', 132: 'compare', 217: 'chart', 141: 'possible', 257: 'written', 78: 'remember', 119: 'mile', 245: 'cold', 196: 'lady', 165: 'felt', 153: 'against', 96: 'skin', 107: 'prepare', 51: 'he', 90: 'card', 5: 'organ', 274: 'object', 47: 'our', 159: 'major', 60: 'discuss', 3: 'system', 266: 'hole', 188: 'above', 246: 'they', 83: 'produce', 148: 'straight', 134: 'level', 62: 'though', 99: 'modern', 59: 'dry', 275: 'bought', 91: 'milk', 294: 'make', 80: 'show', 207: 'middle', 291: 'center', 184: 'blood', 167: 'speak', 74: 'prove', 50: 'select', 223: 'power', 108: 'come', 39: 'brown', 21: 'experiment', 28: 'strong', 66: 'hurry', 229: 'touch', 30: 'reach', 110: 'case', 216: 'beat', 129: 'over', 143: 'dry', 264: 'hill', 55: 'company', 203: 'opposite', 131: 'work', 238: 'field', 158: 'felt', 65: 'prepare', 12: 'now', 281: 'his', 125: 'stay', 64: 'toward', 288: 'observe', 102: 'time', 194: 'stop', 72: 'possible', 284: 'card', 271: 'prepare', 262: 'current', 93: 'compare', 121: 'neighbor', 178: 'thus', 254: 'include', 17: 'copy', 14: 'bit', 42: 'stead', 100: 'does', 101: 'general', 77: 'solve', 252: 'glad', 106: 'duck', 40: 'offer', 88: 'happen', 293: 'ball', 276: 'bread', 61: 'like', 92: 'machine', 287: 'come', 109: 'any', 226: 'band', 58: 'it', 202: 'section', 282: 'close', 23: 'heavy', 205: 'produce', 68: 'got', 140: 'possible', 18: 'insect', 201: 'way', 176: 'before', 98: 'men', 237: 'bird', 270: 'ease', 277: 'trade', 172: 'winter', 97: 'am', 120: 'repeat', 104: 'first', 103: 'to', 135: 'each', 225: 'guide', 53: 'column', 156: 'single', 43: 'remember', 243: 'wild', 236: 'major', 242: 'coast', 52: 'class', 170: 'done', 75: 'jump', 67: 'sister', 166: 'feel', 239: 'check', 269: 'fire', 19: 'nine', 210: 'indicate', 189: 'parent', 94: 'whole', 289: 'her', 173: 'the', 209: 'temperature', 260: 'design', 175: 'big', 208: 'skill', 38: 'friend', 278: 'hit', 230: 'wait', 48: 'instant', 199: 'blow', 113: 'about', 244: 'chick', 241: 'answer', 137: 'man', 200: 'material', 255: 'current', 85: 'think', 253: 'print', 95: 'nor', 220: 'better', 29: 'example', 27: 'people', 186: 'drink', 44: 'gun', 87: 'together', 81: 'cost', 150: 'require', 155: 'or', 9: 'people', 7: 'planet', 183: 'ease', 114: 'ready', 115: 'enough', 33: 'sugar', 299: 'deal', 133: 'with', 105: 'us', 272: 'share', 152: 'office', 268: 'protect', 265: 'low', 213: 'thus', 13: 'farm', 280: 'oxygen', 144: 'fire', 117: 'force', 195: 'select', 285: 'paragraph', 204: 'always', 31: 'poem', 20: 'chick', 145: 'planet', 151: 'fact', 192: 'moment', 182: 'term'}\n",
      "                       1 \n",
      "                      2 3 \n",
      "                     4 5 6 \n",
      "                    7 8 9 10 \n",
      "                   11 12 13 14 15 \n",
      "                  16 17 18 19 20 21 \n",
      "                 22 23 24 25 26 27 28 \n",
      "                29 30 31 32 33 34 35 36 \n",
      "               37 38 39 40 41 42 43 44 45 \n",
      "              46 47 48 49 50 51 52 53 54 55 \n",
      "             56 57 58 59 60 61 62 63 64 65 66 \n",
      "            67 68 69 70 71 72 73 74 75 76 77 78 \n",
      "           79 80 81 82 83 84 85 86 87 88 89 90 91 \n",
      "          92 93 94 95 96 97 98 99 100 101 102 103 104 105 \n",
      "         106 107 108 109 110 111 112 113 114 115 116 117 118 119 120 \n",
      "        121 122 123 124 125 126 127 128 129 130 131 132 133 134 135 136 \n",
      "       137 138 139 140 141 142 143 144 145 146 147 148 149 150 151 152 153 \n",
      "      154 155 156 157 158 159 160 161 162 163 164 165 166 167 168 169 170 171 \n",
      "     172 173 174 175 176 177 178 179 180 181 182 183 184 185 186 187 188 189 190 \n",
      "    191 192 193 194 195 196 197 198 199 200 201 202 203 204 205 206 207 208 209 210 \n",
      "   211 212 213 214 215 216 217 218 219 220 221 222 223 224 225 226 227 228 229 230 231 \n",
      "  232 233 234 235 236 237 238 239 240 241 242 243 244 245 246 247 248 249 250 251 252 253 \n",
      " 254 255 256 257 258 259 260 261 262 263 264 265 266 267 268 269 270 271 272 273 274 275 276 \n",
      "277 278 279 280 281 282 283 284 285 286 287 288 289 290 291 292 293 294 295 296 297 298 299 300 \n",
      "[1, 3, 6, 10, 15, 21, 28, 36, 45, 55, 66, 78, 91, 105, 120, 136, 153, 171, 190, 210, 231, 253, 276, 300]\n",
      "{283: 'land', 45: 'sun', 149: 'too', 258: 'huge', 161: 'dont', 224: 'such', 169: 'noun', 10: 'student', 185: 'brown', 41: 'complete', 63: 'play', 187: 'cook', 160: 'yard', 82: 'clock', 300: 'would', 179: 'plain', 174: 'excite', 273: 'fire', 84: 'wish', 22: 'cool', 263: 'child', 212: 'past', 261: 'colony', 248: 'oil', 218: 'dog', 292: 'back', 89: 'money', 70: 'kind', 126: 'open', 214: 'finger', 86: 'touch', 249: 'are', 296: 'dad', 122: 'am', 256: 'modern', 171: 'meant', 206: 'ocean', 231: 'pitch', 250: 'suit', 71: 'town', 76: 'east', 116: 'over', 177: 'group', 157: 'good', 146: 'kind', 164: 'down', 4: 'band', 56: 'especially', 234: 'organ', 298: 'of', 180: 'fire', 49: 'out', 232: 'area', 124: 'touch', 123: 'happen', 26: 'sat', 130: 'electric', 295: 'wrote', 127: 'buy', 15: 'lot', 69: 'stop', 11: 'corn', 54: 'where', 247: 'check', 73: 'live', 221: 'best', 168: 'hold', 286: 'cause', 233: 'grand', 6: 'present', 79: 'indicate', 46: 'counter', 162: 'we', 193: 'like', 222: 'visit', 251: 'state', 139: 'morning', 112: 'true', 279: 'are', 142: 'ball', 190: 'history', 34: 'seat', 228: 'rain', 227: 'less', 25: 'glass', 240: 'tone', 37: 'song', 128: 'fair', 211: 'element', 197: 'speed', 57: 'produce', 32: 'quotient', 259: 'sand', 290: 'begin', 138: 'moment', 24: 'offer', 16: 'probable', 235: 'all', 163: 'necessary', 147: 'post', 35: 'cent', 2: 'happen', 8: 'speech', 198: 'object', 267: 'silver', 297: 'third', 36: 'crease', 191: 'wait', 111: 'triangle', 219: 'idea', 136: 'clothe', 1: 'young', 181: 'discuss', 154: 'field', 118: 'company', 215: 'capital', 132: 'compare', 217: 'chart', 141: 'possible', 257: 'written', 78: 'remember', 119: 'mile', 245: 'cold', 196: 'lady', 165: 'felt', 153: 'against', 96: 'skin', 107: 'prepare', 51: 'he', 90: 'card', 5: 'organ', 274: 'object', 47: 'our', 159: 'major', 60: 'discuss', 3: 'system', 266: 'hole', 188: 'above', 246: 'they', 83: 'produce', 148: 'straight', 134: 'level', 62: 'though', 99: 'modern', 59: 'dry', 275: 'bought', 91: 'milk', 294: 'make', 80: 'show', 207: 'middle', 291: 'center', 184: 'blood', 167: 'speak', 74: 'prove', 50: 'select', 223: 'power', 108: 'come', 39: 'brown', 21: 'experiment', 28: 'strong', 66: 'hurry', 229: 'touch', 30: 'reach', 110: 'case', 216: 'beat', 129: 'over', 143: 'dry', 264: 'hill', 55: 'company', 203: 'opposite', 131: 'work', 238: 'field', 158: 'felt', 65: 'prepare', 12: 'now', 281: 'his', 125: 'stay', 64: 'toward', 288: 'observe', 102: 'time', 194: 'stop', 72: 'possible', 284: 'card', 271: 'prepare', 262: 'current', 93: 'compare', 121: 'neighbor', 178: 'thus', 254: 'include', 17: 'copy', 14: 'bit', 42: 'stead', 100: 'does', 101: 'general', 77: 'solve', 252: 'glad', 106: 'duck', 40: 'offer', 88: 'happen', 293: 'ball', 276: 'bread', 61: 'like', 92: 'machine', 287: 'come', 109: 'any', 226: 'band', 58: 'it', 202: 'section', 282: 'close', 23: 'heavy', 205: 'produce', 68: 'got', 140: 'possible', 18: 'insect', 201: 'way', 176: 'before', 98: 'men', 237: 'bird', 270: 'ease', 277: 'trade', 172: 'winter', 97: 'am', 120: 'repeat', 104: 'first', 103: 'to', 135: 'each', 225: 'guide', 53: 'column', 156: 'single', 43: 'remember', 243: 'wild', 236: 'major', 242: 'coast', 52: 'class', 170: 'done', 75: 'jump', 67: 'sister', 166: 'feel', 239: 'check', 269: 'fire', 19: 'nine', 210: 'indicate', 189: 'parent', 94: 'whole', 289: 'her', 173: 'the', 209: 'temperature', 260: 'design', 175: 'big', 208: 'skill', 38: 'friend', 278: 'hit', 230: 'wait', 48: 'instant', 199: 'blow', 113: 'about', 244: 'chick', 241: 'answer', 137: 'man', 200: 'material', 255: 'current', 85: 'think', 253: 'print', 95: 'nor', 220: 'better', 29: 'example', 27: 'people', 186: 'drink', 44: 'gun', 87: 'together', 81: 'cost', 150: 'require', 155: 'or', 9: 'people', 7: 'planet', 183: 'ease', 114: 'ready', 115: 'enough', 33: 'sugar', 299: 'deal', 133: 'with', 105: 'us', 272: 'share', 152: 'office', 268: 'protect', 265: 'low', 213: 'thus', 13: 'farm', 280: 'oxygen', 144: 'fire', 117: 'force', 195: 'select', 285: 'paragraph', 204: 'always', 31: 'poem', 20: 'chick', 145: 'planet', 151: 'fact', 192: 'moment', 182: 'term'}\n",
      "1: young\n",
      "3: system\n",
      "6: present\n",
      "136: clothe\n",
      "10: student\n",
      "15: lot\n",
      "276: bread\n",
      "21: experiment\n",
      "153: against\n",
      "28: strong\n",
      "36: crease\n",
      "171: meant\n",
      "300: would\n",
      "45: sun\n",
      "55: company\n",
      "190: history\n",
      "66: hurry\n",
      "78: remember\n",
      "210: indicate\n",
      "91: milk\n",
      "231: pitch\n",
      "105: us\n",
      "120: repeat\n",
      "253: print\n"
     ]
    }
   ],
   "source": [
    "\n",
    "import math\n",
    "\n",
    "#function to decode the message from the file\n",
    "def decode(message_file):\n",
    "    with open(message_file, 'r') as file: #read the file using open function\n",
    "        lines = file.readlines()  #read the lines in the file\n",
    "    \n",
    "    #create a dictionary to store the key and message of the file\n",
    "    key_message_dictonary = {}\n",
    "\n",
    "    #loop through the lines in the file\n",
    "    for line in lines:\n",
    "        line = line.strip() #remove the white spaces\n",
    "        if line: #check if the line is not empty\n",
    "            key, message = line.split(' ') #split the line into key and message\n",
    "            key_message_dictonary[int(key)] = message #add the key and message to the dictionary\n",
    "    \n",
    "    print(key_message_dictonary) #print the dictionary\n",
    "\n",
    "    keys = sorted(key_message_dictonary.keys()) #sort the keys in the dictionary\n",
    "    num_rows = int(math.sqrt(2 * len(keys) + 0.25) - 0.5)  #get the number of rows in the pyramid\n",
    "\n",
    "    keysFromPyramid = [] #create an empty list to store the keys from the pyramid\n",
    "    lastKeysInEachLineOfPyramid = [] #create an empty list to store the last keys in each line of the pyramid\n",
    "\n",
    "\n",
    "    for i in range(1, num_rows+1): #loop through the number of rows\n",
    "        print(\" \" * (num_rows - i), end=\"\") #print the spaces\n",
    "\n",
    "        for j in range(i):#loop through the range of i\n",
    "            if keys:  # Check if the list is not empty\n",
    "                key = keys.pop(0) #pop the first key from the list\n",
    "                keysFromPyramid.append(key) #append the key to the list\n",
    "                print(key, end=' ')#print the key\n",
    "            else:\n",
    "                break   #break the loop\n",
    "        print() #print a new line\n",
    "        if keysFromPyramid: #check if the list is not empty\n",
    "            lastKeysInEachLineOfPyramid.append(keysFromPyramid[-1]) #append the last key in the list to the lastKeysInEachLineOfPyramid\n",
    "\n",
    "    print(lastKeysInEachLineOfPyramid)\n",
    "\n",
    "    keysForDecodingMessage =list(set(lastKeysInEachLineOfPyramid)) #get the unique keys from the lastKeysInEachLineOfPyramid\n",
    "    print(key_message_dictonary)\n",
    "\n",
    "    for key in keysForDecodingMessage: #loop through the keysForDecodingMessage\n",
    "        print(f\"{key}: {key_message_dictonary[key]}\") #print the key and the message\n",
    "\n",
    "\n",
    "\n",
    "# Test the function\n",
    "decode('coding_qual_input.txt')"
   ]
  },
  {
   "cell_type": "code",
   "execution_count": 87,
   "metadata": {},
   "outputs": [
    {
     "name": "stdout",
     "output_type": "stream",
     "text": [
      "  *\n",
      " ***\n",
      "*****\n"
     ]
    }
   ],
   "source": [
    "def full_pyramid(n):\n",
    "    for i in range(1, n + 1):\n",
    "        # Print leading spaces\n",
    "        for j in range(n - i):\n",
    "            print(\" \", end=\"\")\n",
    "         \n",
    "        # Print asterisks for the current row\n",
    "        for k in range(1, 2*i):\n",
    "            print(\"*\", end=\"\")\n",
    "        print()    \n",
    "\n",
    "full_pyramid(3)"
   ]
  },
  {
   "cell_type": "code",
   "execution_count": null,
   "metadata": {},
   "outputs": [],
   "source": []
  }
 ],
 "metadata": {
  "kernelspec": {
   "display_name": "Python 3",
   "language": "python",
   "name": "python3"
  },
  "language_info": {
   "codemirror_mode": {
    "name": "ipython",
    "version": 3
   },
   "file_extension": ".py",
   "mimetype": "text/x-python",
   "name": "python",
   "nbconvert_exporter": "python",
   "pygments_lexer": "ipython3",
   "version": "3.11.4"
  }
 },
 "nbformat": 4,
 "nbformat_minor": 2
}
