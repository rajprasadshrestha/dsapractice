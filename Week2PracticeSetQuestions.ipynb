{
 "cells": [
  {
   "cell_type": "markdown",
   "metadata": {},
   "source": [
    "You are given an array `prices` where `prices[i]` is the price of a given stock on the `i`th day.\n",
    "\n",
    "Your task is to maximize your profit by choosing a single day to buy one stock and choosing a different day in the future to sell that stock. Return the maximum profit you can achieve from this transaction. If you cannot achieve any profit, return 0.\n",
    "\n",
    "**Example 1:**\n",
    "Input: prices = [7,1,5,3,6,4]\n",
    "Output: 5\n",
    "Explanation: Buy on day 2 (price = 1) and sell on day 5 (price = 6), profit = 6-1 = 5. Note that buying on day 2 and selling on day 1 is not allowed because you must buy before you sell.\n",
    "\n",
    "**Example 2:**\n",
    "Input: prices = [7,6,4,3,1]\n",
    "Output: 0\n",
    "Explanation: In this case, no transactions are done and the max profit = 0."
   ]
  },
  {
   "cell_type": "code",
   "execution_count": 2,
   "metadata": {},
   "outputs": [
    {
     "name": "stdout",
     "output_type": "stream",
     "text": [
      "5\n",
      "0\n"
     ]
    }
   ],
   "source": [
    "def maxProfit(prices: list[int]) -> int:\n",
    "\n",
    "    minElement = prices[0]\n",
    "    priceDiff = 0\n",
    "    maxProfit = 0\n",
    "    for price in prices:\n",
    "        if price < minElement:\n",
    "            minElement = price\n",
    "        priceDiff = price - minElement\n",
    "        if priceDiff  > maxProfit:\n",
    "            maxProfit = priceDiff\n",
    "        \n",
    "    return maxProfit\n",
    "    \n",
    "\n",
    "print(maxProfit([7,1,5,3,6,4]))\n",
    "print(maxProfit([7,6,4,3,1]))"
   ]
  },
  {
   "cell_type": "markdown",
   "metadata": {},
   "source": [
    "Write a function to sum all even numbers in a list called \"nums\". If no valid even numbers are found, return -1.\n",
    "\n",
    "**Example:**\n",
    "```python\n",
    "print(sum_even_nums([2,3,4]))  # Output: 6"
   ]
  },
  {
   "cell_type": "code",
   "execution_count": 3,
   "metadata": {},
   "outputs": [
    {
     "name": "stdout",
     "output_type": "stream",
     "text": [
      "30\n",
      "6\n"
     ]
    }
   ],
   "source": [
    "def sum_even_nums(nums):\n",
    "    sum_even_nums = 0\n",
    "    even_number_exists= 0\n",
    "    if nums is None:\n",
    "        return -1\n",
    "    for item in nums:\n",
    "        if isinstance(item, bool) or isinstance(item,tuple):\n",
    "            continue\n",
    "        if isinstance(item,int) or isinstance(item,float):\n",
    "            if item % 2 == 0:\n",
    "                sum_even_nums = sum_even_nums + item\n",
    "                even_number_exists = 1\n",
    "    if even_number_exists == 0:\n",
    "        return -1\n",
    "    return int(sum_even_nums)\n",
    "\n",
    "print(sum_even_nums([1,2,3,4,5,6,7,8,9,10]))\n",
    "print(sum_even_nums([2,3,4]))"
   ]
  }
 ],
 "metadata": {
  "kernelspec": {
   "display_name": "Python 3",
   "language": "python",
   "name": "python3"
  },
  "language_info": {
   "codemirror_mode": {
    "name": "ipython",
    "version": 3
   },
   "file_extension": ".py",
   "mimetype": "text/x-python",
   "name": "python",
   "nbconvert_exporter": "python",
   "pygments_lexer": "ipython3",
   "version": "3.11.4"
  }
 },
 "nbformat": 4,
 "nbformat_minor": 2
}
