{
 "cells": [
  {
   "cell_type": "markdown",
   "metadata": {},
   "source": [
    "In this lab exercise, you will explore the use of Python dictionaries to implement a simple contacts book. The goal is to create a program that allows users to add new contacts, update existing contact information, retrieve the phone number of a specified contact, and print the full contacts book in a formatted manner.\n",
    "\n",
    "Tasks:\n",
    "\n",
    "Implement a function add_contact(name, phone_number) to add a new contact to the contacts book.\n",
    "Implement a function update_contact(name, new_phone_number) to update the phone number of an existing contact.\n",
    "Implement a function get_phone_number(name) to retrieve the phone number of a specified contact.\n",
    "Implement a function print_contacts_book() to print the full contacts book in a formatted manner, including column titles.\n",
    "The following test script will be run by Moodle:\n",
    "\n",
    "print_contacts_book()\n",
    "\n",
    "add_contact(\"Alice\", \"123-456-7890\")\n",
    "\n",
    "add_contact(\"Bob\", \"987-654-3210\")\n",
    "\n",
    "update_contact(\"Alice\", \"555-123-4567\")\n",
    "\n",
    "update_contact(\"Charlie\", \"111-222-3333\")  # This contact does not exist\n",
    "\n",
    "print_contacts_book()\n",
    "\n",
    "The following output is expected(do not print blank lines between each print statement:\n",
    "\n",
    "Contacts Book:\n",
    "\n",
    "The contacts book is empty.\n",
    "\n",
    "Contact Alice added successfully!\n",
    "\n",
    "Contact Bob added successfully!\n",
    "\n",
    "Contact Alice's phone number updated successfully!\n",
    "\n",
    "Contact Charlie not found in the contacts book.\n",
    "\n",
    "The phone number of Bob is: 987-654-3210\n",
    "\n",
    "Contacts Book:\n",
    "\n",
    "Alice           555-123-4567   \n",
    "\n",
    "Bob             987-654-3210   \n",
    "\n",
    "\n",
    "\n",
    "The formating for printing the contents of the dictionary is:\n",
    "\n",
    "print(\"{:<15} {:<15}\".format(name, phone_number))"
   ]
  },
  {
   "cell_type": "code",
   "execution_count": 10,
   "metadata": {},
   "outputs": [
    {
     "name": "stdout",
     "output_type": "stream",
     "text": [
      "Contacts Book:\n",
      "The contacts book is empty.\n",
      "Contact Alice added successfully! \n",
      "Contact Bob added successfully! \n",
      "Contact Alice's phone number updated successfully! \n",
      "Contact Charlie not found in the contacts book.\n",
      "The phone number of Bob is: 987-654-3210\n",
      "Contacts Book:\n",
      "Alice           555-123-4567   \n",
      "Bob             987-654-3210   \n"
     ]
    }
   ],
   "source": [
    "contacts_book = {} # dictionary to store contacts, key is name, value is the phone number\n",
    "\n",
    "# Implement a function add_contact(name, phone_number) to add a new contact to the contacts book.\n",
    "def add_contact(name, phone_number):\n",
    "    contacts_book[name] = phone_number # add the contact to the contacts book dictionary\n",
    "    print(f\"Contact {name} added successfully! \")\n",
    "\n",
    "# Implement a function update_contact(name, new_phone_number) to update the phone number of an existing contact.\n",
    "def update_contact(name, new_phone_number):\n",
    "    if name not in contacts_book: # check if the contact exists in the contacts book\n",
    "       print(f\"Contact {name} not found in the contacts book.\")\n",
    "    else:\n",
    "       contacts_book[name] = new_phone_number # update the phone number of the contact\n",
    "       print(f\"Contact {name}'s phone number updated successfully! \")\n",
    "\n",
    "        \n",
    "# Implement a function get_phone_number(name) to retrieve the phone number of a specified contact.\n",
    "def get_phone_number(name): \n",
    "    if name not in contacts_book: # check if the contact exists in the contacts book\n",
    "        print(f\"Contact {name} not found in the contacts book.\")\n",
    "    else:\n",
    "        print(f\"The phone number of {name} is: {contacts_book[name]}\")\n",
    "\n",
    "# Implement a function print_contacts_book() to print the full contacts book in a formatted manner, including column titles.\n",
    "def print_contacts_book():\n",
    "    print(\"Contacts Book:\")\n",
    "    if len(contacts_book) == 0: # check if the contacts book is empty\n",
    "        print(\"The contacts book is empty.\")\n",
    "    else:\n",
    "        for name,phone_number  in contacts_book.items(): # iterate through the contacts book and print the contacts\n",
    "            print(\"{:<15} {:<15}\".format(name, phone_number)) # format the output to have 15 characters for name and phone number\n",
    "    \n",
    "\n",
    "print_contacts_book()\n",
    "add_contact(\"Alice\", \"123-456-7890\")\n",
    "add_contact(\"Bob\", \"987-654-3210\")\n",
    "update_contact(\"Alice\", \"555-123-4567\")\n",
    "update_contact(\"Charlie\", \"111-222-3333\")\n",
    "get_phone_number(\"Bob\")\n",
    "print_contacts_book()"
   ]
  },
  {
   "cell_type": "markdown",
   "metadata": {},
   "source": [
    " The Sieve of Eratosthenes is an elegant algorithm for finding all of the prime numbers up to some limit n. The basic idea is to first create a list of numbers from 2 to n. The first number is removed from the list, and announced as a prime number, and all multiples of this number up to n are removed from the list. This process continues until the list is empty.\n",
    "\n",
    "For example, if we wished to find all the primes up to 10, the list would originally contain 2, 3, 4, 5, 6, 7, 8, 9, 10. The 2 is removed and announced to be prime. Then 4, 6, 8, and 10 are removed, since they are multiples of 2. That leaves 3, 5, 7, 9. Repeating the process, 3 is announced as prime and removed, and 9 is removed because it is a multiple of 3. That leaves 5 and 7. The algorithm continues by announcing that 5 is prime and removing it from the list. Finally, 7 is announced and removed, and we're done.\n",
    "\n",
    "Write a Function that accepts an integer for n and then uses the sieve algorithm to find all the primes less than or equal to n.\n",
    "\n",
    "The function signature should be \"def sieve(n)\".\n",
    "\n",
    "The output should be just the list.\n",
    "\n",
    "eg. \"sieve(10)\" should generate the output:\n",
    "\n",
    "[2, 3, 5, 7]\n",
    "\n",
    "Do not import any modules.  Maximum number of lines is 50, including comments.  n can be any positive integer.\n",
    "\n",
    "This question is worth 2% points of the 5% of the lab."
   ]
  },
  {
   "cell_type": "code",
   "execution_count": 13,
   "metadata": {},
   "outputs": [
    {
     "name": "stdout",
     "output_type": "stream",
     "text": [
      "[2, 3, 5, 7]\n",
      "[2, 3, 5, 7, 11, 13, 17, 19, 23, 29, 31, 37, 41, 43, 47, 53]\n",
      "[2, 3, 5, 7, 11, 13, 17, 19, 23, 29, 31, 37, 41, 43, 47, 53, 59, 61, 67, 71, 73, 79, 83, 89, 97, 101, 103, 107, 109, 113, 127, 131, 137, 139, 149, 151, 157, 163, 167, 173, 179, 181, 191, 193, 197, 199, 211, 223, 227, 229, 233, 239, 241, 251, 257, 263, 269, 271, 277, 281, 283, 293, 307, 311, 313, 317, 331, 337, 347, 349, 353, 359, 367, 373, 379, 383, 389, 397, 401, 409, 419, 421, 431, 433, 439, 443, 449, 457, 461, 463, 467, 479, 487, 491, 499, 503, 509, 521, 523, 541, 547, 557, 563, 569, 571, 577, 587, 593, 599, 601, 607, 613, 617, 619, 631, 641, 643, 647, 653, 659, 661, 673, 677, 683, 691, 701, 709, 719, 727, 733, 739, 743, 751, 757, 761, 769, 773, 787, 797, 809, 811, 821, 823, 827, 829, 839, 853, 857, 859, 863, 877, 881, 883, 887, 907, 911, 919, 929, 937, 941, 947, 953, 967, 971, 977, 983, 991, 997, 1009, 1013, 1019, 1021, 1031, 1033, 1039, 1049, 1051, 1061, 1063, 1069, 1087, 1091, 1093, 1097, 1103, 1109, 1117, 1123, 1129, 1151, 1153, 1163, 1171, 1181, 1187, 1193, 1201, 1213, 1217, 1223, 1229, 1231]\n"
     ]
    }
   ],
   "source": [
    "# function accepts an integer for n and then uses the sieve algorithm to find all the primes less than or equal to n.\n",
    "def sieve(n):\n",
    "    if(n > 0): # check if n is greater than 0\n",
    "        numbers =[] # list to store the numbers from 2 to n\n",
    "        for i in range(2,n+1): #range function to create a list of numbers from 2 to n+1 \n",
    "            numbers.append(i) # add the number to the list\n",
    "        \n",
    "        for i in numbers:#iterate through the numbers list via i loop\n",
    "            for j in numbers:  #iterate through the numbers list via j loop\n",
    "                if j % i == 0 and  j != i: # check if j is exactly divisible by i and j is not equal to i\n",
    "                    numbers.remove(j) # remove the number  j from the list which is the not a prime number\n",
    "        \n",
    "        print (numbers) #print the list of prime numbers\n",
    "\n",
    "\n",
    "sieve(10)\n",
    "sieve(53)\n",
    "sieve(1234)"
   ]
  }
 ],
 "metadata": {
  "kernelspec": {
   "display_name": "Python 3",
   "language": "python",
   "name": "python3"
  },
  "language_info": {
   "codemirror_mode": {
    "name": "ipython",
    "version": 3
   },
   "file_extension": ".py",
   "mimetype": "text/x-python",
   "name": "python",
   "nbconvert_exporter": "python",
   "pygments_lexer": "ipython3",
   "version": "3.11.4"
  }
 },
 "nbformat": 4,
 "nbformat_minor": 2
}
