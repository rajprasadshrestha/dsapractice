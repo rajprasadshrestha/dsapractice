{
 "cells": [
  {
   "cell_type": "markdown",
   "metadata": {},
   "source": [
    "Let's say you have a dataset representing a hierarchical organization structure, where each employee has a unique ID, a name, a role, and a manager ID indicating the ID of their direct manager.\n",
    "\n",
    "Here's the problem:\n",
    "\n",
    "You are given a dataset (a file formated as a csv with a column header) representing the organizational structure of a company. Each employee is represented by a record containing the following information:\n",
    "\n",
    "employee_id,employee_name,employee_role,manager_id\n",
    "\n",
    "The manager_id indicates the ID of the employee's direct manager. The CEO has a manager_id of None.\n",
    "\n",
    "Each employee record should be saved as a dictionary data type and the employee dataset should be a list data type.\n",
    "\n",
    "Write a recursive function count_subordinates(dataset, manager_id) that takes the dataset and the ID of a manager and returns the total number of subordinates (direct and indirect) under that manager.\n",
    "\n",
    "The output of the program should be the number of subordinates printed on one line and print the dataset as a list of dicitionaries.\n",
    "\n",
    "Constraints:\n",
    "\n",
    "The dataset is a list of dictionaries, where each dictionary represents a unique employee.\n",
    "The id field is a positive integer (1 <= id <= 1000).\n",
    "The manager_id field can be None for the CEO or a valid employee ID.\n",
    "The dataset has at most 100 employees.\n",
    "Note:\n",
    "\n",
    "You can assume that the dataset represents a valid organizational structure with no circular dependencies.\n",
    "\n",
    "Please use the recursive method or 0% will be assigned."
   ]
  },
  {
   "cell_type": "code",
   "execution_count": 1,
   "metadata": {},
   "outputs": [
    {
     "name": "stdout",
     "output_type": "stream",
     "text": [
      "10\n",
      "[{'id': '1', 'name': 'CEO', 'role': 'CEO', 'manager_id': 'None'}, {'id': '2', 'name': 'Manager A', 'role': 'Manager', 'manager_id': '1'}, {'id': '3', 'name': 'Employee A', 'role': 'Employee', 'manager_id': '2'}, {'id': '4', 'name': 'Employee B', 'role': 'Employee', 'manager_id': '2'}, {'id': '5', 'name': 'Employee C', 'role': 'Employee', 'manager_id': '2'}, {'id': '6', 'name': 'Manager B', 'role': 'Manager', 'manager_id': '1'}, {'id': '7', 'name': 'Employee D', 'role': 'Employee', 'manager_id': '6'}, {'id': '8', 'name': 'Employee E', 'role': 'Employee', 'manager_id': '6'}, {'id': '9', 'name': 'Supervisor A', 'role': 'Supervisor', 'manager_id': '2'}, {'id': '10', 'name': 'Employee F', 'role': 'Employee', 'manager_id': '9'}, {'id': '11', 'name': 'Employee G', 'role': 'Employee', 'manager_id': '9'}]\n",
      "6\n",
      "[{'id': '1', 'name': 'CEO', 'role': 'CEO', 'manager_id': 'None'}, {'id': '2', 'name': 'Manager A', 'role': 'Manager', 'manager_id': '1'}, {'id': '3', 'name': 'Employee A', 'role': 'Employee', 'manager_id': '2'}, {'id': '4', 'name': 'Employee B', 'role': 'Employee', 'manager_id': '2'}, {'id': '5', 'name': 'Employee C', 'role': 'Employee', 'manager_id': '2'}, {'id': '6', 'name': 'Manager B', 'role': 'Manager', 'manager_id': '1'}, {'id': '7', 'name': 'Employee D', 'role': 'Employee', 'manager_id': '6'}, {'id': '8', 'name': 'Employee E', 'role': 'Employee', 'manager_id': '6'}, {'id': '9', 'name': 'Supervisor A', 'role': 'Supervisor', 'manager_id': '2'}, {'id': '10', 'name': 'Employee F', 'role': 'Employee', 'manager_id': '9'}, {'id': '11', 'name': 'Employee G', 'role': 'Employee', 'manager_id': '9'}]\n",
      "0\n",
      "[{'id': '1', 'name': 'CEO', 'role': 'CEO', 'manager_id': 'None'}, {'id': '2', 'name': 'Manager A', 'role': 'Manager', 'manager_id': '1'}, {'id': '3', 'name': 'Employee A', 'role': 'Employee', 'manager_id': '2'}, {'id': '4', 'name': 'Employee B', 'role': 'Employee', 'manager_id': '2'}, {'id': '5', 'name': 'Employee C', 'role': 'Employee', 'manager_id': '2'}, {'id': '6', 'name': 'Manager B', 'role': 'Manager', 'manager_id': '1'}, {'id': '7', 'name': 'Employee D', 'role': 'Employee', 'manager_id': '6'}, {'id': '8', 'name': 'Employee E', 'role': 'Employee', 'manager_id': '6'}, {'id': '9', 'name': 'Supervisor A', 'role': 'Supervisor', 'manager_id': '2'}, {'id': '10', 'name': 'Employee F', 'role': 'Employee', 'manager_id': '9'}, {'id': '11', 'name': 'Employee G', 'role': 'Employee', 'manager_id': '9'}]\n"
     ]
    }
   ],
   "source": [
    "# main(\"d.txt\",\"1\")\n",
    "# 1 -> 10\n",
    "def main(file,manager_id):\n",
    "    list_of_dict = [] # initialize list of dict\n",
    "    with open(file) as f: # open file in read mode\n",
    "        lines = f.readlines() # read all lines in file\n",
    "        for line in lines[1:]: # iterate over lines and skip first line\n",
    "            line = line.replace(\"\\n\",\"\").split(\",\") # remove new line and split by comma \n",
    "            list_of_dict.append({   # append dict to list\n",
    "                \"id\":line[0],\n",
    "                \"name\":line[1],\n",
    "                \"role\":line[2],\n",
    "                \"manager_id\":line[3]\n",
    "            }) \n",
    "    print(find_total_subordinates(manager_id,list_of_dict)) # call function to find total subordinates\n",
    "    print(list_of_dict) # print list of dict\n",
    "\n",
    "\n",
    "\n",
    "def find_total_subordinates(manager_id,list_of_dict):\n",
    "    total_subordinates = 0 # initialize total_subordinates\n",
    "    for employee in list_of_dict: # iterate over list of dict\n",
    "        if employee[\"manager_id\"] is not None and employee[\"manager_id\"] == manager_id: # check if manager_id is not None and equal to manager_id\n",
    "            if 1 <= int(employee[\"id\"]) <= 1000: # check if id is between 1 and 1000\n",
    "                total_subordinates += find_total_subordinates(employee[\"id\"],list_of_dict) + 1 #recursive call to find total subordinates\n",
    "\n",
    "    return total_subordinates # return total subordinates\n",
    "\n",
    "main(\"d.txt\",\"1\") \n",
    "main(\"d.txt\",\"2\")  \n",
    "main(\"d.txt\",\"10\")    \n"
   ]
  },
  {
   "cell_type": "markdown",
   "metadata": {},
   "source": [
    "Automated spell-checkers are used to analyze documents and locate words that might be misspelled. These programs work by comparing each word in the document to a large dictionary (in the non-Python sense) of words. Any word not found in the dictionary it is flagged as potentially incorrect.\n",
    "\n",
    "Write a program to perform spell-checking on a text file using a binary search. To do this, you will need to get a large file of English words in alphabetical order. Moodle has a file called \"words.txt\" that has one word per line that you can use as a dictionary.  The words are sorted alphabetically.\n",
    "\n",
    "Your program should read a file to analyze and then try to look up every word in the file using binary search. If a word is not found in the dictionary, print it on the screen as potentially incorrect.\n",
    "\n",
    "If you program does not use a binary search, then it will recieve a 0% grade.\n",
    "\n",
    "Output will be discussed during the Dec 6th lecture.\n",
    "\n"
   ]
  },
  {
   "cell_type": "code",
   "execution_count": 3,
   "metadata": {},
   "outputs": [
    {
     "name": "stdout",
     "output_type": "stream",
     "text": [
      "A spell checker to try out binary search.\n",
      "\n",
      "The following words were not found in the dictionary:\n",
      "------------------------------------------------------\n",
      "this  splling  mitake  \n",
      "\n",
      "Spell Check Complete.\n"
     ]
    }
   ],
   "source": [
    "    \n",
    "#Binary search function to search for the words in the list\n",
    "def binary_search(words, searchWord): \n",
    "    low = 0\n",
    "    high = len(words) - 1\n",
    "    while low <= high: #While loop to search for the word in the list\n",
    "        mid = (low + high) // 2 #Finding the middle index of the list\n",
    "        if searchWord == words[mid]: #If the search word is found in the list\n",
    "            return mid #Return the index of the word\n",
    "        elif searchWord < words[mid]: #If the search word is less than the middle word\n",
    "            high = mid - 1 #Set the high index to the middle index - 1\n",
    "        else:\n",
    "            low = mid + 1 #Set the low index to the middle index + 1\n",
    "    return -1 #call the display message function to display the message not found case\n",
    "\n",
    "\n",
    "\n",
    "def main(file):\n",
    "    with open(\"words.txt\") as f: #Open the file in read mode\n",
    "        line = f.readlines() #Read the lines in the file and store it in a list\n",
    "        words = []\n",
    "        for word in line: #Iterate through the list of words\n",
    "            word = word.replace(\"\\n\", \"\") #Remove the new line character from the word\n",
    "            words.append(word) #Append the word to the list\n",
    "\n",
    "\n",
    "    with open(file) as f:\n",
    "        line = f.readline() #Read the line in the file\n",
    "        words1 = line.replace('.', '').split() #Remove the period and split the words in the line\n",
    "        print(\"A spell checker to try out binary search.\") \n",
    "        print()\n",
    "        print(\"The following words were not found in the dictionary:\")\n",
    "        print(\"------------------------------------------------------\")\n",
    "        for w in words1: #Iterate through the list of words\n",
    "            w = w.lower() #Convert the word to lower case\n",
    "            result = binary_search(words,w) #Call the binary search function to search for the word in the list\n",
    "            if result == -1: #If the word is not found in the list\n",
    "                print(w ,end=\"  \") #Print the word\n",
    "        print()\n",
    "        print()\n",
    "        print(\"Spell Check Complete.\")\n",
    "\n"
   ]
  }
 ],
 "metadata": {
  "kernelspec": {
   "display_name": "Python 3",
   "language": "python",
   "name": "python3"
  },
  "language_info": {
   "codemirror_mode": {
    "name": "ipython",
    "version": 3
   },
   "file_extension": ".py",
   "mimetype": "text/x-python",
   "name": "python",
   "nbconvert_exporter": "python",
   "pygments_lexer": "ipython3",
   "version": "3.11.4"
  }
 },
 "nbformat": 4,
 "nbformat_minor": 2
}
