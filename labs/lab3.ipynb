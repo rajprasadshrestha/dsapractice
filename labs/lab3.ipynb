{
 "cells": [
  {
   "cell_type": "markdown",
   "metadata": {},
   "source": [
    "**Question 1:** <br>\n",
    "\n",
    "A babysitter charges $15.00 an hour until 9:00 PM when the rate drops to $12.00 an hour (the children are in bed). Write a Function named \"calculate_babysitting_bill\" with the follwing function signature \"calculate_babysitting_bill(start_time, end_time)\" that accepts a starting time and ending time in hours and minutes and calculates the total babysitting bill. You may assume that the starting and ending times are entered as text in the following format:  \"HH:MM\", eg 6:30 PM would be entered as \"18:30\" and 1:30 AM would be entered as \"01:30\". Partial hours should be appropriately prorated.  The total bill should be rounded to the second decimal position.  Use the following print statement for the output of the function:\n",
    "\n",
    "print(f'The total babysitting bill is: ${total_bill:,.2f}.')\n",
    "\n",
    "Assume that the end_time babysitting will not be later than 03:00 (ie 3 AM).  You do not need to have your function check to see if the end_time is later than 03:00.\n",
    "\n",
    "Hint: you may use \"datetime\" and \"timedelta\" from the \"datetime\" library.\n",
    "\n",
    "For example:\n",
    "\n",
    "Test\tResult\n",
    "calculate_babysitting_bill(\"20:00\", \"21:00\")\n",
    "The total babysitting bill is: $15.00.\n",
    "calculate_babysitting_bill(\"21:00\", \"22:00\")\n",
    "The total babysitting bill is: $12.00.\n",
    "calculate_babysitting_bill(\"09:00\", \"02:30\")\n",
    "The total babysitting bill is: $246.00.\n"
   ]
  },
  {
   "cell_type": "code",
   "execution_count": 1,
   "metadata": {},
   "outputs": [
    {
     "name": "stdout",
     "output_type": "stream",
     "text": [
      "The total babysitting bill is: $15.00\n",
      "The total babysitting bill is: $12.00\n",
      "The total babysitting bill is: $246.00\n",
      "The total babysitting bill is: $97.50\n"
     ]
    }
   ],
   "source": [
    "#import the datetime module\n",
    "from datetime import datetime, timedelta\n",
    "\n",
    "def calculate_babysitting_bill(start_time,end_time):\n",
    "    # parse the start_time and end_time to datetime objects\n",
    "    start_time = datetime.strptime(start_time, '%H:%M')\n",
    "    end_time = datetime.strptime(end_time, '%H:%M')\n",
    "\n",
    "    # check if end_time is earlier than start_time\n",
    "    # this is for the last case where the babysitting ends after midnight\n",
    "    # '9:00','2:30'\n",
    "    if end_time < start_time:\n",
    "        end_time = end_time +  timedelta(days=1)  # add 24 hours to end_time\n",
    "    \n",
    "    #store 9:00 PM in 24 hours clock as a datetime object\n",
    "    nine_pm_time = datetime.strptime('21:00', '%H:%M')\n",
    "\n",
    "    #initialize the total bill to 0\n",
    "    total_bill = 0.0\n",
    "    before_9pm_total_worked_hours = 0\n",
    "    after_9pm_total_worked_hours = 0\n",
    "    \n",
    "    #check if the end_time is before 9:00 PM\n",
    "    if end_time < nine_pm_time:\n",
    "        # convert seconds to hours to calculate the total no of working hours using seconds property of datetime object\n",
    "        before_9pm_total_worked_hours = (end_time - start_time).seconds / 3600\n",
    "        after_9pm_total_worked_hours = 0 #since the end_time is before 9:00 PM\n",
    "    else: #if the end_time is after 9:00 PM\n",
    "        before_9pm_total_worked_hours = (nine_pm_time - start_time).seconds / 3600\n",
    "        after_9pm_total_worked_hours = (end_time - nine_pm_time).seconds / 3600\n",
    "\n",
    "    #calculate the total bill with before_9pm_total_worked_hours(rate 15) and after_9pm_total_worked_hours(rate 12)\n",
    "    total_bill = total_bill + before_9pm_total_worked_hours * 15 + after_9pm_total_worked_hours * 12\n",
    "\n",
    "    print(f'The total babysitting bill is: ${total_bill:.2f}')\n",
    "\n",
    "\n",
    "calculate_babysitting_bill('20:00','21:00')\n",
    "calculate_babysitting_bill('21:00','22:00')\n",
    "calculate_babysitting_bill('9:00','2:30')\n",
    "calculate_babysitting_bill('2:30','9:00')\n",
    "\n",
    "   "
   ]
  }
 ],
 "metadata": {
  "kernelspec": {
   "display_name": "Python 3",
   "language": "python",
   "name": "python3"
  },
  "language_info": {
   "codemirror_mode": {
    "name": "ipython",
    "version": 3
   },
   "file_extension": ".py",
   "mimetype": "text/x-python",
   "name": "python",
   "nbconvert_exporter": "python",
   "pygments_lexer": "ipython3",
   "version": "3.11.4"
  }
 },
 "nbformat": 4,
 "nbformat_minor": 2
}
