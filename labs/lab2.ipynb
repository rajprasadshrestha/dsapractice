{
 "cells": [
  {
   "cell_type": "markdown",
   "metadata": {},
   "source": [
    "**Question 1:** <br>\n",
    "\n",
    "<p>Create a Python FUNCTION that takes a list as a parameter. The FUNCTION should determine all the unique values in the list and count their occurrences. The output of the FUNCTION should print a row for each unique item using the print statement listed below for each row. </p>\n",
    "\n",
    "The signature of the FUNCTION should be:\n",
    "\n",
    "    def count_unique_values(input_list):\n",
    "\n",
    "The output should have a header using the following statements:\n",
    "\n",
    "    print(\"{:<15}{}\".format(\"Unique Item\", \"Count\"))\n",
    "\n",
    "    print(\"-\" * 25)\n",
    "\n",
    "\n",
    "\n",
    "Format for each row in the table should be:\n",
    "\n",
    "    print(\"{:<15}{}\".format(item, count))\n"
   ]
  },
  {
   "cell_type": "code",
   "execution_count": 48,
   "metadata": {},
   "outputs": [
    {
     "name": "stdout",
     "output_type": "stream",
     "text": [
      "Unique Item    Count\n",
      "-------------------------\n",
      "1              1\n",
      "2              2\n",
      "3              3\n",
      "4              4\n",
      "5              5\n",
      "-*--*--*--*--*--*--*--*--*--*--*--*-\n",
      "Unique Item    Count\n",
      "-------------------------\n",
      "a              2\n",
      "5              5\n",
      "2              1\n",
      "3              2\n",
      "4              3\n",
      "z              1\n",
      "$$             1\n",
      "$$$            1\n"
     ]
    }
   ],
   "source": [
    "#function to count the unique values in a list\n",
    "def count_unique_values(input_list):\n",
    "    dict = {} #create an empty dictionary\n",
    "\n",
    "    #loop through the list\n",
    "    for item in input_list:\n",
    "        # if the element is  already in the dictionary\n",
    "        if item in dict:  \n",
    "            # increment the value of the key by 1\n",
    "            dict[item] = dict[item] + 1\n",
    "        #if the element is not in the dictionary \n",
    "        else: \n",
    "            # add the element to the dictionary and set the value to 1\n",
    "            dict[item] = 1 \n",
    "    return dict\n",
    "\n",
    "#function to display the result\n",
    "def display_result(dict):\n",
    "    print(\"{:<15}{}\".format(\"Unique Item\", \"Count\"))\n",
    "    print(\"-\" * 25)\n",
    "    # loop through the dictionary and print the key and value\n",
    "    for key, value in dict.items():\n",
    "        print(\"{:<15}{}\".format(key, value))\n",
    "\n",
    "dict = count_unique_values([1,2,3,4,5,2,3,4,5,3,4,5,4,5,5]) #call the function\n",
    "display_result(dict)#call the function\n",
    "\n",
    "print(\"-*-\" * 12)\n",
    "\n",
    "dict = count_unique_values([\"a\",5,2,3,4,5,3,4,5,4,5,5,\"a\", \"z\", \"$$\", \"$$$\"])#call the  count_unique_values function\n",
    "display_result(dict) #call the display_result function\n",
    "   "
   ]
  },
  {
   "cell_type": "markdown",
   "metadata": {},
   "source": [
    " \n",
    " **Question 2:** <br>\n",
    "\n",
    " <p>A Caesar cipher is a simple substitution cipher based on the idea of shifting each letter of a word a fixed number (called the \"key\") of positions in the alphabet. For example, if the \"key\" value is 2, the word \"Sourpuss\" would be encoded as \"Uqwtrwuu.\" The original message can be recovered by \"reencoding\" it using the negative of the \"key\".</p>\n",
    "\n",
    "<p>Write a FUNCTION that can encode and decode Caesar ciphers. The input to the FUNCTION will be an integer value of the \"key\" and a string of plaintext. The output will be an encoded word where each character in the original word is replaced by shifting it \"key\" characters in the Unicode character set. For example, if ch is a character in the string and \"key\" is the amount to shift, then the character that replaces ch can be calculated as: </p>\n",
    "\n",
    "    chr (ord (ch) + key)\n",
    "\n",
    "<p>The FUNCTION will be called with two arguments, the first will be an integer (either positive or negative) and will be the value of the \"key\".  The second argument will be the string which is to be encoded (if the \"key\" is a positive value) or decoded (if the \"key\" is a negative value).  The output of the FUNCTION should be the encoded or decoded string.  </p>\n",
    "\n",
    "\n",
    "The FUNCTION signature should be:\n",
    "\n",
    "    def main(key, plain)"
   ]
  },
  {
   "cell_type": "code",
   "execution_count": 46,
   "metadata": {},
   "outputs": [
    {
     "name": "stdout",
     "output_type": "stream",
     "text": [
      "Test           Result\n",
      "-------------------------\n",
      "abc            bcd\n",
      "bcd            abc\n",
      "cdeAAk         hijFFp\n"
     ]
    }
   ],
   "source": [
    "#function to modify the plain text by adding the key to the ASCII value of each character\n",
    "def main(key,plain):\n",
    "    encodedPlain = \"\" #create an empty string\n",
    "    for character in plain: #loop through the plain text\n",
    "        encodedPlain = encodedPlain  +  chr(ord(character) + key) #add the key to the ASCII value of each character\n",
    "    return encodedPlain #return the encoded plain text\n",
    "\n",
    "print(\"{:<15}{}\".format(\"Test\", \"Result\"))\n",
    "print(\"-\" * 25)\n",
    "print(\"{:<15}{}\".format(\"abc\",main(1, \"abc\"))) #call the main function\n",
    "print(\"{:<15}{}\".format(\"bcd\",main(-1,\"bcd\"))) #call the main function\n",
    "print(\"{:<15}{}\".format(\"cdeAAk\",main(5,\"cdeAAk\"))) #call the main function\n"
   ]
  },
  {
   "cell_type": "markdown",
   "metadata": {},
   "source": [
    "\n",
    "**Question 3:** <br>\n",
    "\n",
    "<p>One problem with the previous problem is that it does not deal with the case when we \"drop off the end\" of the alphabet. A true Caesar cipher does the shifting in a circular fashion where the next character after \"Z\" is \"a.\" and the next character after \"z\" is \"A\".  Modify the FUNCTION to the previous problem to make it circular.  As in the previous function your function should expect two arguments from the call, the first is an integer which is the value for the key and the second is a string which is the message that will be encoded.  The function should return just the encoded string. Hint : Make a string containing all the uppercase and lowercase characters of the alphabet and use positions in this string in your code.</p>"
   ]
  },
  {
   "cell_type": "code",
   "execution_count": 55,
   "metadata": {},
   "outputs": [
    {
     "name": "stdout",
     "output_type": "stream",
     "text": [
      "Test           Result\n",
      "-------------------------\n",
      "abc            bcd\n",
      "bcd            XYZ\n",
      "cdeAAk         WXYZZJ\n"
     ]
    }
   ],
   "source": [
    "#create a string of all the uppercase and  lowercase letters\n",
    "alphabet = \"abcdefghijklmnopqrstuvwxyzABCDEFGHIJKLMNOPQRSTUVWXYZ\" \n",
    "\n",
    "#function to modify the plain text by adding the key to the ASCII value of each character\n",
    "def main(key, plain):\n",
    "    encodedPlain = \"\" #create an empty string\n",
    "    for character in plain:#loop through the plain text\n",
    "        if character in alphabet:\n",
    "            encodedPlain +=  alphabet[alphabet.index(character) + key] #add the key to the ASCII value of each character\n",
    "    return encodedPlain #return the encodedPlain plain text\n",
    "\n",
    "print(\"{:<15}{}\".format(\"Test\", \"Result\"))\n",
    "print(\"-\" * 25)\n",
    "print(\"{:<15}{}\".format(\"abc\",main(1, \"abc\"))) #call the main function\n",
    "print(\"{:<15}{}\".format(\"bcd\",main(-3, \"abc\"))) #call the main function\n",
    "print(\"{:<15}{}\".format(\"cdeAAk\",main(25,\"xyzAAk\"))) #call the main function"
   ]
  }
 ],
 "metadata": {
  "kernelspec": {
   "display_name": "Python 3",
   "language": "python",
   "name": "python3"
  },
  "language_info": {
   "codemirror_mode": {
    "name": "ipython",
    "version": 3
   },
   "file_extension": ".py",
   "mimetype": "text/x-python",
   "name": "python",
   "nbconvert_exporter": "python",
   "pygments_lexer": "ipython3",
   "version": "3.11.4"
  }
 },
 "nbformat": 4,
 "nbformat_minor": 2
}
